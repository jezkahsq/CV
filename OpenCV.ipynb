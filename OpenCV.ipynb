{
 "cells": [
  {
   "cell_type": "code",
   "execution_count": 1,
   "metadata": {},
   "outputs": [
    {
     "data": {
      "text/plain": [
       "-1"
      ]
     },
     "execution_count": 1,
     "metadata": {},
     "output_type": "execute_result"
    }
   ],
   "source": [
    "import cv2\n",
    "image = cv2.imread('C:\\\\Users\\\\Administrator\\\\Desktop\\\\CV\\\\Kayle.jpg')\n",
    "cv2.imshow('IMAGE:', image)\n",
    "cv2.waitKey(0)"
   ]
  },
  {
   "cell_type": "code",
   "execution_count": 6,
   "metadata": {},
   "outputs": [
    {
     "name": "stdout",
     "output_type": "stream",
     "text": [
      "1334 750 3\n"
     ]
    },
    {
     "data": {
      "text/plain": [
       "-1"
      ]
     },
     "execution_count": 6,
     "metadata": {},
     "output_type": "execute_result"
    }
   ],
   "source": [
    "print(image.shape[0], image.shape[1], image.shape[2])\n",
    "patch1 = image[150:500, 200:600]\n",
    "cv2.imshow('patch1',patch1)\n",
    "cv2.waitKey(0)"
   ]
  },
  {
   "cell_type": "code",
   "execution_count": 3,
   "metadata": {},
   "outputs": [
    {
     "data": {
      "text/plain": [
       "-1"
      ]
     },
     "execution_count": 3,
     "metadata": {},
     "output_type": "execute_result"
    }
   ],
   "source": [
    "import cv2\n",
    "import numpy as np\n",
    "canvas = np.zeros((300,300,3), dtype='uint8')\n",
    "for i in range(0,25):\n",
    "    radius = np.random.randint(5,200)\n",
    "    color = np.random.randint(0,256,size=(3,)).tolist()\n",
    "    pt = np.random.randint(0,200,size=(2,))\n",
    "    cv2.circle(canvas,tuple(pt),radius,color,-1)\n",
    "cv2.imshow('canvas', canvas)\n",
    "cv2.waitKey(0)"
   ]
  },
  {
   "cell_type": "code",
   "execution_count": 6,
   "metadata": {},
   "outputs": [
    {
     "data": {
      "text/plain": [
       "-1"
      ]
     },
     "execution_count": 6,
     "metadata": {},
     "output_type": "execute_result"
    }
   ],
   "source": [
    "#平移\n",
    "M = np.float32([[1,0,25],[0,1,50]])\n",
    "shifted_image = cv2.warpAffine(image,M,(image.shape[1],image.shape[0]))\n",
    "#旋转\n",
    "(h,w) = image.shape[:2]\n",
    "center = (w//2,h//2)\n",
    "M = cv2.getRotationMatrix2D(center,135,0.5)\n",
    "Rotated_image = cv2.warpAffine(image,M,(w,h))\n",
    "cv2.imshow('旋转',Rotated_image)\n",
    "cv2.waitKey(0)\n",
    "# 缩放\n",
    "new_w, new_h = 100,200\n",
    "resized_image = cv2.resize(image,(new_w, new_h), interpolation = cv2.INTER_AREA)\n",
    "cv2.imshow('缩放',resized_image)\n",
    "cv2.waitKey(0)\n",
    "# 翻转\n",
    "flipped_image = cv2.flip(image,-1)\n",
    "# 裁剪使用np切片操作即可\n",
    "cropped_image = image[x1:x2,y1:y2]\n"
   ]
  },
  {
   "cell_type": "code",
   "execution_count": 7,
   "metadata": {},
   "outputs": [
    {
     "data": {
      "text/plain": [
       "-1"
      ]
     },
     "execution_count": 7,
     "metadata": {},
     "output_type": "execute_result"
    }
   ],
   "source": [
    "(B,G,R) = cv2.split(image)\n",
    "merged = cv2.merge([B,G,R])\n",
    "cv2.imshow('red', R)\n",
    "cv2.imshow('green', G)\n",
    "cv2.imshow('blue', B)\n",
    "cv2.imshow('merged', merged)\n",
    "cv2.waitKey(0)"
   ]
  },
  {
   "cell_type": "code",
   "execution_count": null,
   "metadata": {},
   "outputs": [],
   "source": []
  }
 ],
 "metadata": {
  "kernelspec": {
   "display_name": "Python 3",
   "language": "python",
   "name": "python3"
  },
  "language_info": {
   "codemirror_mode": {
    "name": "ipython",
    "version": 3
   },
   "file_extension": ".py",
   "mimetype": "text/x-python",
   "name": "python",
   "nbconvert_exporter": "python",
   "pygments_lexer": "ipython3",
   "version": "3.7.6"
  }
 },
 "nbformat": 4,
 "nbformat_minor": 4
}
